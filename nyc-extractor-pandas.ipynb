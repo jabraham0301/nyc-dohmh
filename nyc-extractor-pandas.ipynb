{
 "cells": [
  {
   "cell_type": "code",
   "execution_count": 1,
   "metadata": {},
   "outputs": [],
   "source": [
    "# Data Pipeline with pandas\n",
    "import pandas as pd\n",
    "from sodapy import Socrata\n",
    "import pyodbc\n",
    "import numpy as np\n",
    "from sqlalchemy import create_engine"
   ]
  },
  {
   "cell_type": "code",
   "execution_count": 2,
   "metadata": {},
   "outputs": [
    {
     "data": {
      "text/plain": [
       "-284"
      ]
     },
     "execution_count": 2,
     "metadata": {},
     "output_type": "execute_result"
    }
   ],
   "source": [
    "# Create SQLAlchemy engine for connect to SQL Server\n",
    "engine = create_engine(\"mssql+pyodbc://<username>:<password>@<server_name>:1433/<database_name>?driver=ODBC+Driver+17+for+SQL+Server\")\n",
    "\n",
    "# Fetch NYC Data\n",
    "client=Socrata(\"data.cityofnewyork.us\",\"<APP_TOKEN>\",username=\"<EMAIL>\",password=\"<PASSWORD>\")\n",
    "results=client.get(\"43nn-pn8j\",limit=1000000)\n",
    "\n",
    "# Create dataframe from response\n",
    "results_df=pd.DataFrame.from_records(results,index=\"camis\")\n",
    "\n",
    "# Replace nan values\n",
    "results_df.replace({np.inf:np.nan,-np.inf:np.nan},inplace=True)\n",
    "\n",
    "# Rename some columns, only to identify attributes\n",
    "results_df.rename(columns={'dba':'name','building':'building_number','zipcode':'zip_code'},inplace=True)\n",
    "\n",
    "# Delete nan and fill these with empty string\n",
    "results_df=results_df[[\n",
    "    'name',\n",
    "    'building_number',\n",
    "    'street',\n",
    "    'zip_code',\n",
    "    'phone',\n",
    "    'cuisine_description',\n",
    "    'latitude',\n",
    "    'longitude',\n",
    "    'community_board',\n",
    "    'council_district',\n",
    "    'census_tract',\n",
    "    'bin',\n",
    "    'bbl',\n",
    "    'nta'\n",
    "]].fillna(\"\")\n",
    "\n",
    "# Delete duplicates\n",
    "results_df=results_df[~results_df.index.duplicated(keep='first')]\n",
    "\n",
    "# Insert into SQL Server\n",
    "results_df.to_sql('restaurant',con=engine,if_exists='append',index='id',chunksize=100)"
   ]
  }
 ],
 "metadata": {
  "kernelspec": {
   "display_name": "Python 3",
   "language": "python",
   "name": "python3"
  },
  "language_info": {
   "codemirror_mode": {
    "name": "ipython",
    "version": 3
   },
   "file_extension": ".py",
   "mimetype": "text/x-python",
   "name": "python",
   "nbconvert_exporter": "python",
   "pygments_lexer": "ipython3",
   "version": "3.10.6"
  },
  "orig_nbformat": 4
 },
 "nbformat": 4,
 "nbformat_minor": 2
}
